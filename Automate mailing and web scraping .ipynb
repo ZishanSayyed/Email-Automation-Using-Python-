{
 "cells": [
  {
   "cell_type": "markdown",
   "metadata": {},
   "source": [
    "# Automatie Mailing of new articel headline and its link using python \n",
    "\n",
    "web scraping \n",
    "\n",
    "automate mailing "
   ]
  },
  {
   "cell_type": "code",
   "execution_count": 1,
   "metadata": {},
   "outputs": [
    {
     "name": "stdout",
     "output_type": "stream",
     "text": [
      "Requirement already satisfied: requests in c:\\users\\user\\anaconda3\\lib\\site-packages (2.24.0)\n",
      "Requirement already satisfied: urllib3!=1.25.0,!=1.25.1,<1.26,>=1.21.1 in c:\\users\\user\\anaconda3\\lib\\site-packages (from requests) (1.25.11)\n",
      "Requirement already satisfied: certifi>=2017.4.17 in c:\\users\\user\\anaconda3\\lib\\site-packages (from requests) (2020.6.20)\n",
      "Requirement already satisfied: idna<3,>=2.5 in c:\\users\\user\\anaconda3\\lib\\site-packages (from requests) (2.10)\n",
      "Requirement already satisfied: chardet<4,>=3.0.2 in c:\\users\\user\\anaconda3\\lib\\site-packages (from requests) (3.0.4)\n"
     ]
    }
   ],
   "source": [
    "#installing required libraries \n",
    "!pip install requests"
   ]
  },
  {
   "cell_type": "code",
   "execution_count": 2,
   "metadata": {},
   "outputs": [
    {
     "name": "stdout",
     "output_type": "stream",
     "text": [
      "Requirement already satisfied: beautifulsoup4 in c:\\users\\user\\anaconda3\\lib\\site-packages (4.9.3)\n",
      "Requirement already satisfied: soupsieve>1.2; python_version >= \"3.0\" in c:\\users\\user\\anaconda3\\lib\\site-packages (from beautifulsoup4) (2.0.1)\n"
     ]
    }
   ],
   "source": [
    "! pip install beautifulsoup4"
   ]
  },
  {
   "cell_type": "code",
   "execution_count": 1,
   "metadata": {},
   "outputs": [],
   "source": [
    "#importing req librabries\n",
    "\n",
    "import requests #for http \n",
    "from bs4 import BeautifulSoup #web scraping \n",
    "\n",
    "import smtplib #for sending mail\n",
    "\n",
    "from email.mime.multipart import MIMEMultipart #email boady \n",
    "from email.mime.text import MIMEText\n",
    "\n",
    "import datetime #system date \n"
   ]
  },
  {
   "cell_type": "code",
   "execution_count": 2,
   "metadata": {},
   "outputs": [],
   "source": [
    "#to get the extact date and time \n",
    "now=datetime.datetime.now()"
   ]
  },
  {
   "cell_type": "code",
   "execution_count": 3,
   "metadata": {},
   "outputs": [],
   "source": [
    "#email containt \n",
    "\n",
    "content=\" \"   #it contain all our email content when the function run completely and send the to mail boady (string var)"
   ]
  },
  {
   "cell_type": "markdown",
   "metadata": {},
   "source": [
    "#Extracting the data form website \n",
    "\n",
    "#creating function which extract the data"
   ]
  },
  {
   "cell_type": "code",
   "execution_count": 4,
   "metadata": {},
   "outputs": [],
   "source": [
    "def extract_news(url):\n",
    "    print(\"Extracting Hacker News...\")\n",
    "    cnt=''   \n",
    "    cnt +=('<b>HN Top Stories:</b>\\n'+'<br>'+'-'*50+'<br>') #<br> use for space \n",
    "    response=requests.get(url)   #geting website url\n",
    "    content=response.content   \n",
    "    soup=BeautifulSoup(content,\"html.parser\")   #exctrating data \n",
    "    for i,tag in enumerate(soup.find_all('td',attrs={'class':'title','valign':''})): #creating loop so that we extract full page\n",
    "        cnt += ((str(i+1)+' :: '+tag.text + \"\\n\" + '<br>') if tag.text!='More' else '') #till more \n",
    "    return(cnt)\n",
    "   "
   ]
  },
  {
   "cell_type": "code",
   "execution_count": 5,
   "metadata": {},
   "outputs": [
    {
     "name": "stdout",
     "output_type": "stream",
     "text": [
      "Extracting Hacker News...\n"
     ]
    }
   ],
   "source": [
    "cnt=extract_news(\"https://news.ycombinator.com/\")\n",
    "content += cnt                              #assiging cnt to main content string \n",
    "content +=('<b>------------<b>')            #bottom seprater\n",
    "content +=('<br><br> End of Message')       #end message\n"
   ]
  },
  {
   "cell_type": "code",
   "execution_count": 6,
   "metadata": {},
   "outputs": [
    {
     "data": {
      "text/plain": [
       "\" <b>HN Top Stories:</b>\\n<br>--------------------------------------------------<br>1 :: Ocean drone captures video from inside a hurricane (noaa.gov)\\n<br>2 :: Where do type systems come from? (felipe.rs)\\n<br>3 :: DMV approves Cruise and Waymo for commercial service in parts of Bay Area (ca.gov)\\n<br>4 :: Cryptocurrency mining using integrated photonics (tue.nl)\\n<br>5 :: Session Encrypted Messenger (getsession.org)\\n<br>6 :: JSXGraph: Dynamic Mathematics with JavaScript (jsxgraph.org)\\n<br>7 :: Why Senior Developers Are Leading the Great Resignation Movement (tipsnguts.medium.com)\\n<br>8 :: DNS Record Types (nslookup.io)\\n<br>9 :: I tried 30 mustards this summer (insidehook.com)\\n<br>10 :: NFT projects are just MLMs for tech elites (every.to/napkin-math)\\n<br>11 :: So you want to compete with Roblox (fortressofdoors.com)\\n<br>12 :: Ashby (YC W19) Is Hiring Engineers and EMs (US and Europe) (ashbyhq.com)\\n<br>13 :: Reverse-engineering an unusual IBM modem board from 1965 (righto.com)\\n<br>14 :: Always-on Processor magic: How Find My works while iPhone is powered off (naehrdine.blogspot.com)\\n<br>15 :: Enabling IPv6 support for GitHub Pages (github.blog)\\n<br>16 :: Akamai and Micro Segmentation (procella.tech)\\n<br>17 :: CNLabelContactRelationYoungerCousinMothersSiblingsDaughterOrFathersSistersDaught (developer.apple.com)\\n<br>18 :: AWS Cloud Control API, a Uniform API to Access AWS and Third-Party Services (amazon.com)\\n<br>19 :: Silicon Lottery store closing (siliconlottery.com)\\n<br>20 :: 'Google' is most searched word on Bing (bbc.com)\\n<br>21 :: Abstraction, intuition, and the “monad tutorial fallacy” (2009) (byorgey.wordpress.com)\\n<br>22 :: Ruby removed “Participants will be tolerant of opposing views” from its CoC (github.com/ruby)\\n<br>23 :: Facebook thrives on criticism of “disinformation” (doctorow.medium.com)\\n<br>24 :: The OpenBSD Webzine (puffy.cafe)\\n<br>25 :: What the Robot Saw (what-the-robot-saw.com)\\n<br>26 :: Masten Space Systems is using Ada and Spark to land on the Moon's south pole [pdf] (adacore.com)\\n<br>27 :: The Bulky Bears of Fat Bear Week 2021 (smithsonianmag.com)\\n<br>28 :: Sparta was more than an army of super warriors (smithsonianmag.com)\\n<br>29 :: Programming in Forth on Commodore 64 [video] (youtube.com)\\n<br>30 :: Chip shortage leads carmaker Opel to shut German plant until 2022 (reuters.com)\\n<br><b>------------<b><br><br> End of Message\""
      ]
     },
     "execution_count": 6,
     "metadata": {},
     "output_type": "execute_result"
    }
   ],
   "source": [
    "content #seeing values in content data \n"
   ]
  },
  {
   "cell_type": "code",
   "execution_count": 7,
   "metadata": {},
   "outputs": [
    {
     "name": "stdout",
     "output_type": "stream",
     "text": [
      "composing Email\n"
     ]
    }
   ],
   "source": [
    "#lets send mail\n",
    "print(\"composing Email\")"
   ]
  },
  {
   "cell_type": "code",
   "execution_count": 20,
   "metadata": {},
   "outputs": [],
   "source": [
    "#adding email deials \n",
    "#set your google acc to low app access settings \n",
    "\n",
    "SERVER =\"smtp.gmail.com\"   #gamilstemp server\n",
    "PORT=\"587\"   #port number\n",
    "FROM=\"sayyedzishan253@gmail.com\"  #senders email\n",
    "TO=\"sayyedzishan563@gmail.com\"  #recivers email\n",
    "PASS=\"****\"          #password\n"
   ]
  },
  {
   "cell_type": "code",
   "execution_count": 30,
   "metadata": {},
   "outputs": [
    {
     "name": "stdout",
     "output_type": "stream",
     "text": [
      "Initiating Server...\n"
     ]
    }
   ],
   "source": [
    "#message \n",
    "\n",
    "msg=MIMEMultipart()\n",
    "\n",
    "#Header \n",
    "msg[\"Subject\"]= 'Top News Stories HN [Automated Email]' + ' ' + str(now.day) + '-' + str(now.month) + '-' + str(\n",
    "    now.year)\n",
    "msg[\"From\"]=FROM\n",
    "msg[\"To\"]=TO\n",
    "\n",
    "msg.attach(MIMEText(content,'html'))\n",
    "print('Initiating Server...')"
   ]
  },
  {
   "cell_type": "code",
   "execution_count": 31,
   "metadata": {},
   "outputs": [],
   "source": [
    "server = smtplib.SMTP(SERVER, PORT)"
   ]
  },
  {
   "cell_type": "code",
   "execution_count": 32,
   "metadata": {},
   "outputs": [
    {
     "name": "stderr",
     "output_type": "stream",
     "text": [
      "send: 'ehlo [192.168.43.55]\\r\\n'\n",
      "reply: b'250-smtp.gmail.com at your service, [42.106.215.247]\\r\\n'\n",
      "reply: b'250-SIZE 35882577\\r\\n'\n",
      "reply: b'250-8BITMIME\\r\\n'\n",
      "reply: b'250-STARTTLS\\r\\n'\n",
      "reply: b'250-ENHANCEDSTATUSCODES\\r\\n'\n",
      "reply: b'250-PIPELINING\\r\\n'\n",
      "reply: b'250-CHUNKING\\r\\n'\n",
      "reply: b'250 SMTPUTF8\\r\\n'\n",
      "reply: retcode (250); Msg: b'smtp.gmail.com at your service, [42.106.215.247]\\nSIZE 35882577\\n8BITMIME\\nSTARTTLS\\nENHANCEDSTATUSCODES\\nPIPELINING\\nCHUNKING\\nSMTPUTF8'\n",
      "send: 'STARTTLS\\r\\n'\n",
      "reply: b'220 2.0.0 Ready to start TLS\\r\\n'\n",
      "reply: retcode (220); Msg: b'2.0.0 Ready to start TLS'\n",
      "send: 'ehlo [192.168.43.55]\\r\\n'\n",
      "reply: b'250-smtp.gmail.com at your service, [42.106.215.247]\\r\\n'\n",
      "reply: b'250-SIZE 35882577\\r\\n'\n",
      "reply: b'250-8BITMIME\\r\\n'\n",
      "reply: b'250-AUTH LOGIN PLAIN XOAUTH2 PLAIN-CLIENTTOKEN OAUTHBEARER XOAUTH\\r\\n'\n",
      "reply: b'250-ENHANCEDSTATUSCODES\\r\\n'\n",
      "reply: b'250-PIPELINING\\r\\n'\n",
      "reply: b'250-CHUNKING\\r\\n'\n",
      "reply: b'250 SMTPUTF8\\r\\n'\n",
      "reply: retcode (250); Msg: b'smtp.gmail.com at your service, [42.106.215.247]\\nSIZE 35882577\\n8BITMIME\\nAUTH LOGIN PLAIN XOAUTH2 PLAIN-CLIENTTOKEN OAUTHBEARER XOAUTH\\nENHANCEDSTATUSCODES\\nPIPELINING\\nCHUNKING\\nSMTPUTF8'\n",
      "send: 'AUTH PLAIN AHNheXllZHppc2hhbjI1M0BnbWFpbC5jb20AemlzaGFuQDg4OTg0ODk5MDc=\\r\\n'\n",
      "reply: b'235 2.7.0 Accepted\\r\\n'\n",
      "reply: retcode (235); Msg: b'2.7.0 Accepted'\n",
      "send: 'mail FROM:<sayyedzishan253@gmail.com> size=3687\\r\\n'\n",
      "reply: b'250 2.1.0 OK r144sm2065590pfc.185 - gsmtp\\r\\n'\n",
      "reply: retcode (250); Msg: b'2.1.0 OK r144sm2065590pfc.185 - gsmtp'\n",
      "send: 'rcpt TO:<sayyedzishan563@gmail.com>\\r\\n'\n",
      "reply: b'250 2.1.5 OK r144sm2065590pfc.185 - gsmtp\\r\\n'\n",
      "reply: retcode (250); Msg: b'2.1.5 OK r144sm2065590pfc.185 - gsmtp'\n",
      "send: 'rcpt TO:<taufiquechoudhary0909@gmail.com>\\r\\n'\n",
      "reply: b'250 2.1.5 OK r144sm2065590pfc.185 - gsmtp\\r\\n'\n",
      "reply: retcode (250); Msg: b'2.1.5 OK r144sm2065590pfc.185 - gsmtp'\n",
      "send: 'data\\r\\n'\n",
      "reply: b'354  Go ahead r144sm2065590pfc.185 - gsmtp\\r\\n'\n",
      "reply: retcode (354); Msg: b'Go ahead r144sm2065590pfc.185 - gsmtp'\n",
      "data: (354, b'Go ahead r144sm2065590pfc.185 - gsmtp')\n",
      "send: b'Content-Type: multipart/mixed; boundary=\"===============4619062558636674965==\"\\r\\nMIME-Version: 1.0\\r\\nSubject: Top News Stories HN [Automated Email] 1-10-2021\\r\\nFrom: sayyedzishan253@gmail.com\\r\\nTo: sayyedzishan563@gmail.com\\r\\n\\r\\n--===============4619062558636674965==\\r\\nContent-Type: text/html; charset=\"utf-8\"\\r\\nMIME-Version: 1.0\\r\\nContent-Transfer-Encoding: base64\\r\\n\\r\\nIDxiPkhOIFRvcCBTdG9yaWVzOjwvYj4KPGJyPi0tLS0tLS0tLS0tLS0tLS0tLS0tLS0tLS0tLS0t\\r\\nLS0tLS0tLS0tLS0tLS0tLS0tLS0tPGJyPjEgOjogT2NlYW4gZHJvbmUgY2FwdHVyZXMgdmlkZW8g\\r\\nZnJvbSBpbnNpZGUgYSBodXJyaWNhbmUgKG5vYWEuZ292KQo8YnI+MiA6OiBXaGVyZSBkbyB0eXBl\\r\\nIHN5c3RlbXMgY29tZSBmcm9tPyAoZmVsaXBlLnJzKQo8YnI+MyA6OiBETVYgYXBwcm92ZXMgQ3J1\\r\\naXNlIGFuZCBXYXltbyBmb3IgY29tbWVyY2lhbCBzZXJ2aWNlIGluIHBhcnRzIG9mIEJheSBBcmVh\\r\\nIChjYS5nb3YpCjxicj40IDo6IENyeXB0b2N1cnJlbmN5IG1pbmluZyB1c2luZyBpbnRlZ3JhdGVk\\r\\nIHBob3RvbmljcyAodHVlLm5sKQo8YnI+NSA6OiBTZXNzaW9uIEVuY3J5cHRlZCBNZXNzZW5nZXIg\\r\\nKGdldHNlc3Npb24ub3JnKQo8YnI+NiA6OiBKU1hHcmFwaDogRHluYW1pYyBNYXRoZW1hdGljcyB3\\r\\naXRoIEphdmFTY3JpcHQgKGpzeGdyYXBoLm9yZykKPGJyPjcgOjogV2h5IFNlbmlvciBEZXZlbG9w\\r\\nZXJzIEFyZSBMZWFkaW5nIHRoZSBHcmVhdCBSZXNpZ25hdGlvbiBNb3ZlbWVudCAodGlwc25ndXRz\\r\\nLm1lZGl1bS5jb20pCjxicj44IDo6IEROUyBSZWNvcmQgVHlwZXMgKG5zbG9va3VwLmlvKQo8YnI+\\r\\nOSA6OiBJIHRyaWVkIDMwIG11c3RhcmRzIHRoaXMgc3VtbWVyIChpbnNpZGVob29rLmNvbSkKPGJy\\r\\nPjEwIDo6IE5GVCBwcm9qZWN0cyBhcmUganVzdCBNTE1zIGZvciB0ZWNoIGVsaXRlcyAoZXZlcnku\\r\\ndG8vbmFwa2luLW1hdGgpCjxicj4xMSA6OiBTbyB5b3Ugd2FudCB0byBjb21wZXRlIHdpdGggUm9i\\r\\nbG94IChmb3J0cmVzc29mZG9vcnMuY29tKQo8YnI+MTIgOjogQXNoYnkgKFlDIFcxOSkgSXMgSGly\\r\\naW5nIEVuZ2luZWVycyBhbmQgRU1zIChVUyBhbmQgRXVyb3BlKSAoYXNoYnlocS5jb20pCjxicj4x\\r\\nMyA6OiBSZXZlcnNlLWVuZ2luZWVyaW5nIGFuIHVudXN1YWwgSUJNIG1vZGVtIGJvYXJkIGZyb20g\\r\\nMTk2NSAocmlnaHRvLmNvbSkKPGJyPjE0IDo6IEFsd2F5cy1vbiBQcm9jZXNzb3IgbWFnaWM6IEhv\\r\\ndyBGaW5kIE15IHdvcmtzIHdoaWxlIGlQaG9uZSBpcyBwb3dlcmVkIG9mZiAobmFlaHJkaW5lLmJs\\r\\nb2dzcG90LmNvbSkKPGJyPjE1IDo6IEVuYWJsaW5nIElQdjYgc3VwcG9ydCBmb3IgR2l0SHViIFBh\\r\\nZ2VzIChnaXRodWIuYmxvZykKPGJyPjE2IDo6IEFrYW1haSBhbmQgTWljcm8gU2VnbWVudGF0aW9u\\r\\nIChwcm9jZWxsYS50ZWNoKQo8YnI+MTcgOjogQ05MYWJlbENvbnRhY3RSZWxhdGlvbllvdW5nZXJD\\r\\nb3VzaW5Nb3RoZXJzU2libGluZ3NEYXVnaHRlck9yRmF0aGVyc1Npc3RlcnNEYXVnaHQgKGRldmVs\\r\\nb3Blci5hcHBsZS5jb20pCjxicj4xOCA6OiBBV1MgQ2xvdWQgQ29udHJvbCBBUEksIGEgVW5pZm9y\\r\\nbSBBUEkgdG8gQWNjZXNzIEFXUyBhbmQgVGhpcmQtUGFydHkgU2VydmljZXMgKGFtYXpvbi5jb20p\\r\\nCjxicj4xOSA6OiBTaWxpY29uIExvdHRlcnkgc3RvcmUgY2xvc2luZyAoc2lsaWNvbmxvdHRlcnku\\r\\nY29tKQo8YnI+MjAgOjogJ0dvb2dsZScgaXMgbW9zdCBzZWFyY2hlZCB3b3JkIG9uIEJpbmcgKGJi\\r\\nYy5jb20pCjxicj4yMSA6OiBBYnN0cmFjdGlvbiwgaW50dWl0aW9uLCBhbmQgdGhlIOKAnG1vbmFk\\r\\nIHR1dG9yaWFsIGZhbGxhY3nigJ0gKDIwMDkpIChieW9yZ2V5LndvcmRwcmVzcy5jb20pCjxicj4y\\r\\nMiA6OiBSdWJ5IHJlbW92ZWQg4oCcUGFydGljaXBhbnRzIHdpbGwgYmUgdG9sZXJhbnQgb2Ygb3Bw\\r\\nb3Npbmcgdmlld3PigJ0gZnJvbSBpdHMgQ29DIChnaXRodWIuY29tL3J1YnkpCjxicj4yMyA6OiBG\\r\\nYWNlYm9vayB0aHJpdmVzIG9uIGNyaXRpY2lzbSBvZiDigJxkaXNpbmZvcm1hdGlvbuKAnSAoZG9j\\r\\ndG9yb3cubWVkaXVtLmNvbSkKPGJyPjI0IDo6IFRoZSBPcGVuQlNEIFdlYnppbmUgKHB1ZmZ5LmNh\\r\\nZmUpCjxicj4yNSA6OiBXaGF0IHRoZSBSb2JvdCBTYXcgKHdoYXQtdGhlLXJvYm90LXNhdy5jb20p\\r\\nCjxicj4yNiA6OiBNYXN0ZW4gU3BhY2UgU3lzdGVtcyBpcyB1c2luZyBBZGEgYW5kIFNwYXJrIHRv\\r\\nIGxhbmQgb24gdGhlIE1vb24ncyBzb3V0aCBwb2xlIFtwZGZdIChhZGFjb3JlLmNvbSkKPGJyPjI3\\r\\nIDo6IFRoZSBCdWxreSBCZWFycyBvZiBGYXQgQmVhciBXZWVrIDIwMjEgKHNtaXRoc29uaWFubWFn\\r\\nLmNvbSkKPGJyPjI4IDo6IFNwYXJ0YSB3YXMgbW9yZSB0aGFuIGFuIGFybXkgb2Ygc3VwZXIgd2Fy\\r\\ncmlvcnMgKHNtaXRoc29uaWFubWFnLmNvbSkKPGJyPjI5IDo6IFByb2dyYW1taW5nIGluIEZvcnRo\\r\\nIG9uIENvbW1vZG9yZSA2NCBbdmlkZW9dICh5b3V0dWJlLmNvbSkKPGJyPjMwIDo6IENoaXAgc2hv\\r\\ncnRhZ2UgbGVhZHMgY2FybWFrZXIgT3BlbCB0byBzaHV0IEdlcm1hbiBwbGFudCB1bnRpbCAyMDIy\\r\\nIChyZXV0ZXJzLmNvbSkKPGJyPjxiPi0tLS0tLS0tLS0tLTxiPjxicj48YnI+IEVuZCBvZiBNZXNz\\r\\nYWdl\\r\\n\\r\\n--===============4619062558636674965==--\\r\\n.\\r\\n'\n",
      "reply: b'250 2.0.0 OK  1633085568 r144sm2065590pfc.185 - gsmtp\\r\\n'\n",
      "reply: retcode (250); Msg: b'2.0.0 OK  1633085568 r144sm2065590pfc.185 - gsmtp'\n",
      "data: (250, b'2.0.0 OK  1633085568 r144sm2065590pfc.185 - gsmtp')\n",
      "send: 'quit\\r\\n'\n"
     ]
    },
    {
     "name": "stdout",
     "output_type": "stream",
     "text": [
      "Email Sent...\n"
     ]
    },
    {
     "name": "stderr",
     "output_type": "stream",
     "text": [
      "reply: b'221 2.0.0 closing connection r144sm2065590pfc.185 - gsmtp\\r\\n'\n",
      "reply: retcode (221); Msg: b'2.0.0 closing connection r144sm2065590pfc.185 - gsmtp'\n"
     ]
    },
    {
     "data": {
      "text/plain": [
       "(221, b'2.0.0 closing connection r144sm2065590pfc.185 - gsmtp')"
      ]
     },
     "execution_count": 32,
     "metadata": {},
     "output_type": "execute_result"
    }
   ],
   "source": [
    "server.set_debuglevel(1)\n",
    "server.ehlo()\n",
    "server.starttls()\n",
    "#server.ehlo\n",
    "server.login(FROM, PASS)\n",
    "server.sendmail(FROM, TO_MUL, msg.as_string())\n",
    "\n",
    "print('Email Sent...')\n",
    "\n",
    "server.quit()"
   ]
  },
  {
   "cell_type": "code",
   "execution_count": 28,
   "metadata": {},
   "outputs": [],
   "source": [
    "#sending Multiple mails at once \n",
    "\n",
    "import smtplib\n",
    "from email.message import EmailMessage\n",
    "\n",
    "FROM=\"sayyedzishan253@gmail.com\"  #senders email\n",
    "PASS=\"****\"          #password\n",
    "\n",
    "\n",
    "recipent_list=[\"sayyedzishan563@gmail.com\",\"taufiquechoudhary0909@gmail.com\"]\n",
    "Msg=EmailMessage()\n",
    "Msg[\"Subject\"]= 'Top News Stories HN [Automated Email]' + ' ' + str(now.day) + '-' + str(now.month) + '-' + str(\n",
    "    now.year)\n",
    "\n",
    "Msg[\"From\"]=FROM\n",
    "Msg[\"To\"]=recipent_list\n",
    "Msg.set_content(\"Today's Trending News\")\n",
    "\n",
    "Msg.add_attachment(content,'html')\n",
    "\n",
    "with smtplib.SMTP_SSL(\"smtp.gmail.com\",465) as smtp:\n",
    "    smtp.login(FROM,PASS)\n",
    "    smtp.send_message(Msg)\n"
   ]
  },
  {
   "cell_type": "markdown",
   "metadata": {},
   "source": [
    "# End "
   ]
  }
 ],
 "metadata": {
  "kernelspec": {
   "display_name": "Python 3",
   "language": "python",
   "name": "python3"
  },
  "language_info": {
   "codemirror_mode": {
    "name": "ipython",
    "version": 3
   },
   "file_extension": ".py",
   "mimetype": "text/x-python",
   "name": "python",
   "nbconvert_exporter": "python",
   "pygments_lexer": "ipython3",
   "version": "3.8.5"
  }
 },
 "nbformat": 4,
 "nbformat_minor": 4
}
